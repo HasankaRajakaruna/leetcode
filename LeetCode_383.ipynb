{
  "nbformat": 4,
  "nbformat_minor": 0,
  "metadata": {
    "colab": {
      "provenance": [],
      "authorship_tag": "ABX9TyMFrTBZefRronUZWmihf+Z+",
      "include_colab_link": true
    },
    "kernelspec": {
      "name": "python3",
      "display_name": "Python 3"
    },
    "language_info": {
      "name": "python"
    }
  },
  "cells": [
    {
      "cell_type": "markdown",
      "metadata": {
        "id": "view-in-github",
        "colab_type": "text"
      },
      "source": [
        "<a href=\"https://colab.research.google.com/github/HasankaRajakaruna/leetcode/blob/main/LeetCode_383.ipynb\" target=\"_parent\"><img src=\"https://colab.research.google.com/assets/colab-badge.svg\" alt=\"Open In Colab\"/></a>"
      ]
    },
    {
      "cell_type": "code",
      "execution_count": null,
      "metadata": {
        "id": "2I16DwcPujnC"
      },
      "outputs": [],
      "source": [
        "class Solution(object):\n",
        "    def canConstruct(self, ransomNote, magazine):\n",
        "      dataset = {}\n",
        "      value = True\n",
        "\n",
        "      for index in range(len(magazine)):\n",
        "        if magazine[index] not in dataset:\n",
        "          dataset[magazine[index]] = 1\n",
        "        else:\n",
        "          dataset[magazine[index]] += 1\n",
        "\n",
        "      for index in range(len(ransomNote)):\n",
        "        if ransomNote[index] in dataset:\n",
        "          dataset[ransomNote[index]] -= 1\n",
        "          if dataset[ransomNote[index]] == 0:\n",
        "            del dataset[ransomNote[index]]\n",
        "        else:\n",
        "          value = False\n",
        "          break\n",
        "      return value"
      ]
    }
  ]
}
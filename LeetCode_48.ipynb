{
  "nbformat": 4,
  "nbformat_minor": 0,
  "metadata": {
    "colab": {
      "provenance": [],
      "authorship_tag": "ABX9TyM7n2FLDjPRv/2n15MCxWij",
      "include_colab_link": true
    },
    "kernelspec": {
      "name": "python3",
      "display_name": "Python 3"
    },
    "language_info": {
      "name": "python"
    }
  },
  "cells": [
    {
      "cell_type": "markdown",
      "metadata": {
        "id": "view-in-github",
        "colab_type": "text"
      },
      "source": [
        "<a href=\"https://colab.research.google.com/github/HasankaRajakaruna/leetcode/blob/main/LeetCode_48.ipynb\" target=\"_parent\"><img src=\"https://colab.research.google.com/assets/colab-badge.svg\" alt=\"Open In Colab\"/></a>"
      ]
    },
    {
      "cell_type": "code",
      "execution_count": null,
      "metadata": {
        "id": "xwDRv4-Cczwf"
      },
      "outputs": [],
      "source": [
        "class Solution(object):\n",
        "    def rotate(self, matrix):\n",
        "\n",
        "      left,right = 0,len(matrix[0])\n",
        "      top,bottom = 0,len(matrix)\n",
        "\n",
        "      while right-left>1:\n",
        "\n",
        "            x = matrix[top][left]\n",
        "\n",
        "            for rotation in range(right-left-1):\n",
        "\n",
        "                for a in range(left+1,right):\n",
        "                    temp = matrix[left][a]\n",
        "                    matrix[left][a] = x\n",
        "                    x = temp\n",
        "\n",
        "                print(\"Part-01\")\n",
        "                print(matrix)\n",
        "\n",
        "                for b in range(top+1,bottom):\n",
        "                    temp = matrix[b][right-1]\n",
        "                    matrix[b][right-1] = x\n",
        "                    x = temp\n",
        "\n",
        "                print(\"Part-02\")\n",
        "                print(matrix)\n",
        "\n",
        "                for c in range(right-2,left,-1):\n",
        "                    temp = matrix[bottom-1][c]\n",
        "                    matrix[bottom-1][c] = x\n",
        "                    x = temp\n",
        "                print(\"Part-03\")\n",
        "                print(matrix)\n",
        "\n",
        "                for d in range(bottom-2,top,-1):\n",
        "                    temp = matrix[d][left]\n",
        "                    matrix[d][left] = x\n",
        "                    x = temp\n",
        "                print(\"Part-04\")\n",
        "                print(matrix)\n",
        "            top += 1\n",
        "            left += 1\n",
        "            right -= 1\n",
        "            bottom -= 1\n",
        "\n",
        "\n",
        "matrix = [[1,2,3],[4,5,6],[7,8,9]]\n",
        "sol = Solution()\n",
        "result = sol.rotate(matrix)\n",
        "\n"
      ]
    }
  ]
}
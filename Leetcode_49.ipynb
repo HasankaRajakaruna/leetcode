{
  "nbformat": 4,
  "nbformat_minor": 0,
  "metadata": {
    "colab": {
      "provenance": [],
      "authorship_tag": "ABX9TyPi9xM1SyY6gvycFF3rWW0d",
      "include_colab_link": true
    },
    "kernelspec": {
      "name": "python3",
      "display_name": "Python 3"
    },
    "language_info": {
      "name": "python"
    }
  },
  "cells": [
    {
      "cell_type": "markdown",
      "metadata": {
        "id": "view-in-github",
        "colab_type": "text"
      },
      "source": [
        "<a href=\"https://colab.research.google.com/github/HasankaRajakaruna/leetcode/blob/main/Leetcode_49.ipynb\" target=\"_parent\"><img src=\"https://colab.research.google.com/assets/colab-badge.svg\" alt=\"Open In Colab\"/></a>"
      ]
    },
    {
      "cell_type": "code",
      "execution_count": null,
      "metadata": {
        "id": "gmpSNINQzKgf"
      },
      "outputs": [],
      "source": [
        "class Solution(object):\n",
        "    def isAnagram(self, s, t):\n",
        "\n",
        "        dataset = {}\n",
        "        value = True\n",
        "\n",
        "        for index in range(len(s)):\n",
        "\n",
        "          if s[index] not in dataset:\n",
        "            dataset[s[index]] = 1\n",
        "          else:\n",
        "            dataset[s[index]] += 1\n",
        "\n",
        "        for index in range(len(t)):\n",
        "\n",
        "          if t[index] in dataset:\n",
        "            dataset[t[index]] -= 1\n",
        "            if dataset[t[index]]==0:\n",
        "              del dataset[t[index]]\n",
        "          else:\n",
        "            value = False\n",
        "            break\n",
        "\n",
        "        if len(dataset)!=0:\n",
        "          value = False\n",
        "        return value"
      ]
    }
  ]
}
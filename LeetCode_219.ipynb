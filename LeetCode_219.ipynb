{
  "nbformat": 4,
  "nbformat_minor": 0,
  "metadata": {
    "colab": {
      "provenance": [],
      "authorship_tag": "ABX9TyNTkjOx+nv2jeZILtO/Klx0",
      "include_colab_link": true
    },
    "kernelspec": {
      "name": "python3",
      "display_name": "Python 3"
    },
    "language_info": {
      "name": "python"
    }
  },
  "cells": [
    {
      "cell_type": "markdown",
      "metadata": {
        "id": "view-in-github",
        "colab_type": "text"
      },
      "source": [
        "<a href=\"https://colab.research.google.com/github/HasankaRajakaruna/leetcode/blob/main/LeetCode_219.ipynb\" target=\"_parent\"><img src=\"https://colab.research.google.com/assets/colab-badge.svg\" alt=\"Open In Colab\"/></a>"
      ]
    },
    {
      "cell_type": "code",
      "execution_count": 5,
      "metadata": {
        "id": "ABnYFyLVIRUR"
      },
      "outputs": [],
      "source": [
        "class Solution(object):\n",
        "    def containsNearbyDuplicate(self, nums, k):\n",
        "      dataset = {}\n",
        "      value = False\n",
        "\n",
        "      for index in range(len(nums)):\n",
        "        if nums[index] not in dataset:\n",
        "          dataset[nums[index]] = index\n",
        "        else:\n",
        "          if abs(dataset[nums[index]]-index)<=k:\n",
        "            value = True\n",
        "            break\n",
        "          else:\n",
        "            dataset[nums[index]] = index\n",
        "      return value\n"
      ]
    },
    {
      "cell_type": "code",
      "source": [],
      "metadata": {
        "id": "hDjSOU3sJgba"
      },
      "execution_count": null,
      "outputs": []
    }
  ]
}
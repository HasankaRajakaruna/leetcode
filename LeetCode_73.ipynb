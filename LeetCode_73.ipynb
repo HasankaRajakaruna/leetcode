{
  "nbformat": 4,
  "nbformat_minor": 0,
  "metadata": {
    "colab": {
      "provenance": [],
      "authorship_tag": "ABX9TyP7RB08KftIBD3gn9c3+3zM",
      "include_colab_link": true
    },
    "kernelspec": {
      "name": "python3",
      "display_name": "Python 3"
    },
    "language_info": {
      "name": "python"
    }
  },
  "cells": [
    {
      "cell_type": "markdown",
      "metadata": {
        "id": "view-in-github",
        "colab_type": "text"
      },
      "source": [
        "<a href=\"https://colab.research.google.com/github/HasankaRajakaruna/leetcode/blob/main/LeetCode_73.ipynb\" target=\"_parent\"><img src=\"https://colab.research.google.com/assets/colab-badge.svg\" alt=\"Open In Colab\"/></a>"
      ]
    },
    {
      "cell_type": "code",
      "execution_count": 7,
      "metadata": {
        "colab": {
          "base_uri": "https://localhost:8080/"
        },
        "id": "JAIhEeooJSYn",
        "outputId": "362b4f52-f9a8-4218-e4b7-6af0b16e7135"
      },
      "outputs": [
        {
          "output_type": "execute_result",
          "data": {
            "text/plain": [
              "[[1, 0, 1], [0, 0, 0], [1, 0, 1]]"
            ]
          },
          "metadata": {},
          "execution_count": 7
        }
      ],
      "source": [
        "class Solution(object):\n",
        "    def setZeroes(self, matrix):\n",
        "\n",
        "        for row in range(len(matrix)):\n",
        "          for col in range(len(matrix[0])):\n",
        "\n",
        "            if matrix[row][col]==0:\n",
        "\n",
        "              for a in range(len(matrix[0])):\n",
        "                if a < col:\n",
        "                  matrix[row][a] = 0\n",
        "                else:\n",
        "                  if matrix[row][a]!=0:\n",
        "                    matrix[row][a] = \"*\"\n",
        "\n",
        "              for b in range(len(matrix)):\n",
        "                if b < row:\n",
        "                  matrix[b][col] = 0\n",
        "                else:\n",
        "                  if matrix[b][col]!= 0:\n",
        "                    matrix[b][col] = \"*\"\n",
        "\n",
        "            if matrix[row][col]==\"*\":\n",
        "              matrix[row][col] = 0\n",
        "        return matrix\n",
        "\n",
        "matrix = [[1,1,1],[1,0,1],[1,1,1]]\n",
        "sol = Solution()\n",
        "result = sol.setZeroes(matrix)\n",
        "result"
      ]
    }
  ]
}
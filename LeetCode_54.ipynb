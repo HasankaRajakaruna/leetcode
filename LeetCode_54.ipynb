{
  "nbformat": 4,
  "nbformat_minor": 0,
  "metadata": {
    "colab": {
      "provenance": [],
      "authorship_tag": "ABX9TyOXpo854gxDQwjlbI+ynqvd",
      "include_colab_link": true
    },
    "kernelspec": {
      "name": "python3",
      "display_name": "Python 3"
    },
    "language_info": {
      "name": "python"
    }
  },
  "cells": [
    {
      "cell_type": "markdown",
      "metadata": {
        "id": "view-in-github",
        "colab_type": "text"
      },
      "source": [
        "<a href=\"https://colab.research.google.com/github/HasankaRajakaruna/leetcode/blob/main/LeetCode_54.ipynb\" target=\"_parent\"><img src=\"https://colab.research.google.com/assets/colab-badge.svg\" alt=\"Open In Colab\"/></a>"
      ]
    },
    {
      "cell_type": "code",
      "execution_count": null,
      "metadata": {
        "id": "S0JpxCkCJJpo"
      },
      "outputs": [],
      "source": [
        "class Solution:\n",
        "    def spiralOrder(self, matrix: List[List[int]]) -> List[int]:\n",
        "      res = []\n",
        "      left,right = 0,len(matrix[0])\n",
        "      top,bottom = 0,len(matrix)\n",
        "\n",
        "      while left<right and top<bottom:\n",
        "\n",
        "        for i in range(left,right):\n",
        "          res.append(matrix[top][i])\n",
        "        top += 1\n",
        "\n",
        "        for i in range(top,bottom):\n",
        "          res.append(matrix[i][right-1])\n",
        "        right -= 1\n",
        "\n",
        "        if not(left<right and top<bottom):\n",
        "          break\n",
        "\n",
        "        for i in range(right-1,left-1,-1):\n",
        "          res.append(matrix[bottom-1][i])\n",
        "        bottom -= 1\n",
        "\n",
        "        for i in range(bottom-1,top-1,-1):\n",
        "          res.append(matrix[i][left])\n",
        "        left += 1\n",
        "      return res"
      ]
    }
  ]
}
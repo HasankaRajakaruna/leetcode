{
  "nbformat": 4,
  "nbformat_minor": 0,
  "metadata": {
    "colab": {
      "provenance": [],
      "authorship_tag": "ABX9TyM9yFb4E/NUaJlXlYSvqYjJ",
      "include_colab_link": true
    },
    "kernelspec": {
      "name": "python3",
      "display_name": "Python 3"
    },
    "language_info": {
      "name": "python"
    }
  },
  "cells": [
    {
      "cell_type": "markdown",
      "metadata": {
        "id": "view-in-github",
        "colab_type": "text"
      },
      "source": [
        "<a href=\"https://colab.research.google.com/github/HasankaRajakaruna/leetcode/blob/main/LeetCode_01.ipynb\" target=\"_parent\"><img src=\"https://colab.research.google.com/assets/colab-badge.svg\" alt=\"Open In Colab\"/></a>"
      ]
    },
    {
      "cell_type": "code",
      "execution_count": null,
      "metadata": {
        "id": "tX414Z447loP"
      },
      "outputs": [],
      "source": [
        "class Solution(object):\n",
        "    def twoSum(self, nums, target):\n",
        "\n",
        "        preMap = {}\n",
        "\n",
        "        for x,val in enumerate(nums):\n",
        "\n",
        "            diff = target-val\n",
        "\n",
        "            if diff in preMap:\n",
        "                return [preMap[diff],x]\n",
        "                break\n",
        "            preMap[val] = x\n",
        "        return\n",
        ""
      ]
    }
  ]
}
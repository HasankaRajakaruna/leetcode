{
  "nbformat": 4,
  "nbformat_minor": 0,
  "metadata": {
    "colab": {
      "provenance": [],
      "authorship_tag": "ABX9TyPuq01jydHsKuijlHYKmens",
      "include_colab_link": true
    },
    "kernelspec": {
      "name": "python3",
      "display_name": "Python 3"
    },
    "language_info": {
      "name": "python"
    }
  },
  "cells": [
    {
      "cell_type": "markdown",
      "metadata": {
        "id": "view-in-github",
        "colab_type": "text"
      },
      "source": [
        "<a href=\"https://colab.research.google.com/github/HasankaRajakaruna/leetcode/blob/main/LeetCode_292.ipynb\" target=\"_parent\"><img src=\"https://colab.research.google.com/assets/colab-badge.svg\" alt=\"Open In Colab\"/></a>"
      ]
    },
    {
      "cell_type": "code",
      "execution_count": 19,
      "metadata": {
        "id": "25lpUlD9fqDo"
      },
      "outputs": [],
      "source": [
        "class Solution(object):\n",
        "    def wordPattern(self, pattern, s):\n",
        "\n",
        "        dataset = {}\n",
        "        value = True\n",
        "        pointer = 0\n",
        "\n",
        "\n",
        "        for index in range(len(pattern)):\n",
        "          word = \"\"\n",
        "          while(pointer<len(s)):\n",
        "            if s[pointer] == \" \":\n",
        "              pointer += 1\n",
        "              break\n",
        "            word += s[pointer]\n",
        "            pointer += 1\n",
        "          if pattern[index] not in dataset:\n",
        "            if word not in dataset.values()and word != \"\":\n",
        "              dataset[pattern[index]] = word\n",
        "            else:\n",
        "              value = False\n",
        "              break\n",
        "          else:\n",
        "            if dataset[pattern[index]] != word:\n",
        "              value = False\n",
        "              break\n",
        "        if pointer != len(s):\n",
        "          value = False\n",
        "        return value"
      ]
    },
    {
      "cell_type": "code",
      "source": [],
      "metadata": {
        "id": "US8w5wY4haB-"
      },
      "execution_count": null,
      "outputs": []
    }
  ]
}
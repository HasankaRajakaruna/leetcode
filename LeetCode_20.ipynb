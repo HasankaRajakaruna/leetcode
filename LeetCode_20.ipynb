{
  "nbformat": 4,
  "nbformat_minor": 0,
  "metadata": {
    "colab": {
      "provenance": [],
      "authorship_tag": "ABX9TyN+vpwlkqK1oZNFqMhMgcb3",
      "include_colab_link": true
    },
    "kernelspec": {
      "name": "python3",
      "display_name": "Python 3"
    },
    "language_info": {
      "name": "python"
    }
  },
  "cells": [
    {
      "cell_type": "markdown",
      "metadata": {
        "id": "view-in-github",
        "colab_type": "text"
      },
      "source": [
        "<a href=\"https://colab.research.google.com/github/HasankaRajakaruna/leetcode/blob/main/LeetCode_20.ipynb\" target=\"_parent\"><img src=\"https://colab.research.google.com/assets/colab-badge.svg\" alt=\"Open In Colab\"/></a>"
      ]
    },
    {
      "cell_type": "code",
      "execution_count": 15,
      "metadata": {
        "id": "FBLUNe2uKsqf"
      },
      "outputs": [],
      "source": [
        "class Solution(object):\n",
        "    def isValid(self, s):\n",
        "      dataset = {\")\":\"(\",\"}\":\"{\",\"]\":\"[\"}\n",
        "      value = True\n",
        "      stack = []\n",
        "\n",
        "      for index,val in enumerate(s):\n",
        "        if val not in dataset:\n",
        "          stack.append(val)\n",
        "        else:\n",
        "          if len(stack)==0:\n",
        "            value = False\n",
        "            break\n",
        "          if dataset[val] != stack.pop():\n",
        "            value = False\n",
        "            break\n",
        "      if len(stack) != 0:\n",
        "        value = False\n",
        "      return value\n"
      ]
    },
    {
      "cell_type": "code",
      "source": [],
      "metadata": {
        "id": "8qGtQKPsMIvy"
      },
      "execution_count": null,
      "outputs": []
    }
  ]
}
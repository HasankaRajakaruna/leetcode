{
  "nbformat": 4,
  "nbformat_minor": 0,
  "metadata": {
    "colab": {
      "provenance": [],
      "authorship_tag": "ABX9TyNSI1bbNffsT2x2gIJf1+6h",
      "include_colab_link": true
    },
    "kernelspec": {
      "name": "python3",
      "display_name": "Python 3"
    },
    "language_info": {
      "name": "python"
    }
  },
  "cells": [
    {
      "cell_type": "markdown",
      "metadata": {
        "id": "view-in-github",
        "colab_type": "text"
      },
      "source": [
        "<a href=\"https://colab.research.google.com/github/HasankaRajakaruna/leetcode/blob/main/LeetCode_49.ipynb\" target=\"_parent\"><img src=\"https://colab.research.google.com/assets/colab-badge.svg\" alt=\"Open In Colab\"/></a>"
      ]
    },
    {
      "cell_type": "code",
      "execution_count": null,
      "metadata": {
        "id": "wwI9TlSwvFyJ"
      },
      "outputs": [],
      "source": [
        "class Solution:\n",
        "    def groupAnagrams(self, strs: List[str]) -> List[List[str]]:\n",
        "        res = defaultdict(list)\n",
        "        for s in strs:\n",
        "            count = [0] * 26\n",
        "\n",
        "            for c in s:\n",
        "                count[ord(c) - ord(\"a\")] += 1\n",
        "\n",
        "            res[tuple(count)].append(s)\n",
        "        return res.values()"
      ]
    }
  ]
}